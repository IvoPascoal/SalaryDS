{
 "cells": [
  {
   "cell_type": "code",
   "execution_count": 1,
   "id": "78a1ee00",
   "metadata": {},
   "outputs": [],
   "source": [
    "import pandas as pd\n",
    "import numpy as np"
   ]
  },
  {
   "cell_type": "code",
   "execution_count": 2,
   "id": "83bf7b37",
   "metadata": {},
   "outputs": [
    {
     "data": {
      "text/plain": [
       "(4344, 5)"
      ]
     },
     "execution_count": 2,
     "metadata": {},
     "output_type": "execute_result"
    }
   ],
   "source": [
    "df = pd.read_csv(\"Salary Dataset.csv\")\n",
    "df.shape"
   ]
  },
  {
   "cell_type": "code",
   "execution_count": 3,
   "id": "a5a2ea46",
   "metadata": {},
   "outputs": [
    {
     "data": {
      "text/plain": [
       "True"
      ]
     },
     "execution_count": 3,
     "metadata": {},
     "output_type": "execute_result"
    }
   ],
   "source": [
    "#Check for NaN\n",
    "df.isnull().values.any()"
   ]
  },
  {
   "cell_type": "code",
   "execution_count": 4,
   "id": "3315f0a7",
   "metadata": {},
   "outputs": [
    {
     "name": "stdout",
     "output_type": "stream",
     "text": [
      "Index(['Company Name', 'Job Title', 'Salaries Reported', 'Location', 'Salary'], dtype='object')\n"
     ]
    }
   ],
   "source": [
    "colunas = df.columns\n",
    "print(colunas)"
   ]
  },
  {
   "cell_type": "code",
   "execution_count": 5,
   "id": "d043c0ff",
   "metadata": {},
   "outputs": [
    {
     "name": "stdout",
     "output_type": "stream",
     "text": [
      "Coluna: Company Name ; Número de NaN: 3\n",
      "Coluna: Job Title ; Número de NaN: 0\n",
      "Coluna: Salaries Reported ; Número de NaN: 2\n",
      "Coluna: Location ; Número de NaN: 0\n",
      "Coluna: Salary ; Número de NaN: 0\n"
     ]
    }
   ],
   "source": [
    "for i in colunas:\n",
    "    print('Coluna: %s ; Número de NaN: %s' % (i, df[i].isnull().sum()))"
   ]
  },
  {
   "cell_type": "code",
   "execution_count": 6,
   "id": "33407fb4",
   "metadata": {
    "scrolled": true
   },
   "outputs": [
    {
     "data": {
      "text/html": [
       "<div>\n",
       "<style scoped>\n",
       "    .dataframe tbody tr th:only-of-type {\n",
       "        vertical-align: middle;\n",
       "    }\n",
       "\n",
       "    .dataframe tbody tr th {\n",
       "        vertical-align: top;\n",
       "    }\n",
       "\n",
       "    .dataframe thead th {\n",
       "        text-align: right;\n",
       "    }\n",
       "</style>\n",
       "<table border=\"1\" class=\"dataframe\">\n",
       "  <thead>\n",
       "    <tr style=\"text-align: right;\">\n",
       "      <th></th>\n",
       "      <th>Company Name</th>\n",
       "      <th>Job Title</th>\n",
       "      <th>Salaries Reported</th>\n",
       "      <th>Location</th>\n",
       "      <th>Salary</th>\n",
       "    </tr>\n",
       "  </thead>\n",
       "  <tbody>\n",
       "    <tr>\n",
       "      <th>2279</th>\n",
       "      <td>NaN</td>\n",
       "      <td>Data Analyst</td>\n",
       "      <td>1.0</td>\n",
       "      <td>Pune</td>\n",
       "      <td>₹23,500/mo</td>\n",
       "    </tr>\n",
       "    <tr>\n",
       "      <th>3227</th>\n",
       "      <td>NaN</td>\n",
       "      <td>Data Engineer</td>\n",
       "      <td>1.0</td>\n",
       "      <td>Pune</td>\n",
       "      <td>₹26,20,604/yr</td>\n",
       "    </tr>\n",
       "    <tr>\n",
       "      <th>4026</th>\n",
       "      <td>NaN</td>\n",
       "      <td>Machine Learning Engineer/Data Scientist</td>\n",
       "      <td>1.0</td>\n",
       "      <td>Pune</td>\n",
       "      <td>₹56,465/mo</td>\n",
       "    </tr>\n",
       "    <tr>\n",
       "      <th>4027</th>\n",
       "      <td>First Student Data Scientist</td>\n",
       "      <td>Data Analyst</td>\n",
       "      <td>NaN</td>\n",
       "      <td>Pune</td>\n",
       "      <td>₹4,53,300/yr</td>\n",
       "    </tr>\n",
       "    <tr>\n",
       "      <th>4237</th>\n",
       "      <td>Amazon</td>\n",
       "      <td>Machine Learning Data Associate II</td>\n",
       "      <td>NaN</td>\n",
       "      <td>New Delhi</td>\n",
       "      <td>₹3,29,439/yr</td>\n",
       "    </tr>\n",
       "  </tbody>\n",
       "</table>\n",
       "</div>"
      ],
      "text/plain": [
       "                      Company Name                                 Job Title  \\\n",
       "2279                           NaN                              Data Analyst   \n",
       "3227                           NaN                             Data Engineer   \n",
       "4026                           NaN  Machine Learning Engineer/Data Scientist   \n",
       "4027  First Student Data Scientist                              Data Analyst   \n",
       "4237                        Amazon        Machine Learning Data Associate II   \n",
       "\n",
       "      Salaries Reported   Location         Salary  \n",
       "2279                1.0       Pune     ₹23,500/mo  \n",
       "3227                1.0       Pune  ₹26,20,604/yr  \n",
       "4026                1.0       Pune     ₹56,465/mo  \n",
       "4027                NaN       Pune   ₹4,53,300/yr  \n",
       "4237                NaN  New Delhi   ₹3,29,439/yr  "
      ]
     },
     "execution_count": 6,
     "metadata": {},
     "output_type": "execute_result"
    }
   ],
   "source": [
    "df[df.isnull().any(axis=1)]"
   ]
  },
  {
   "cell_type": "code",
   "execution_count": 7,
   "id": "aee4236b",
   "metadata": {},
   "outputs": [
    {
     "data": {
      "text/plain": [
       "Tata Consultancy Services       10\n",
       "Accenture                        8\n",
       "Infosys                          7\n",
       "SG Analytics                     6\n",
       "First Student                    6\n",
       "                                ..\n",
       "IEEE Student Branch VIT Pune     1\n",
       "We Are Novella                   1\n",
       "Flipper Code                     1\n",
       "Kushim                           1\n",
       "Extend Future                    1\n",
       "Name: Company Name, Length: 567, dtype: int64"
      ]
     },
     "execution_count": 7,
     "metadata": {},
     "output_type": "execute_result"
    }
   ],
   "source": [
    "#How many companies are in Pune\n",
    "df[df['Location'] == 'Pune']['Company Name'].value_counts()"
   ]
  },
  {
   "cell_type": "code",
   "execution_count": 8,
   "id": "d735f080",
   "metadata": {},
   "outputs": [],
   "source": [
    "df_nonan = df.dropna()\n",
    "df_nonan.shape\n",
    "df_nonan = df_nonan.reset_index()"
   ]
  },
  {
   "cell_type": "code",
   "execution_count": 9,
   "id": "c08d26b8",
   "metadata": {},
   "outputs": [],
   "source": [
    "#Same scale yr to month\n",
    "list_yr = []\n",
    "i = 0\n",
    "while i != df_nonan.shape[0]:\n",
    "    if df_nonan['Salary'][i][-2:] == 'yr':\n",
    "        list_yr.append(i)\n",
    "    i += 1"
   ]
  },
  {
   "cell_type": "code",
   "execution_count": 33,
   "id": "79ff7019",
   "metadata": {},
   "outputs": [],
   "source": [
    "df_nonan[\"Salary Copy\"] = df_nonan[\"Salary\"]\n",
    "df_nonan[\"Salary Copy\"] = df_nonan[\"Salary Copy\"].str.replace(\",\", \"\")\n",
    "df_nonan[\"Salary Copy\"] = df_nonan[\"Salary Copy\"].str.replace(\"₹\", \"\")\n",
    "df_nonan[\"Salary Copy\"] = df_nonan[\"Salary Copy\"].str.replace(\"/yr\", \"\")\n",
    "df_nonan[\"Salary Copy\"] = df_nonan[\"Salary Copy\"].str.replace(\"/mo\", \"\")"
   ]
  },
  {
   "cell_type": "code",
   "execution_count": 34,
   "id": "989fbdb7",
   "metadata": {},
   "outputs": [
    {
     "data": {
      "text/plain": [
       "0        648573\n",
       "1       1191950\n",
       "2        836874\n",
       "3        669578\n",
       "4        944110\n",
       "         ...   \n",
       "4334       5180\n",
       "4335     751286\n",
       "4336     410952\n",
       "4337    1612324\n",
       "4338     939843\n",
       "Name: Salary Copy, Length: 4339, dtype: object"
      ]
     },
     "execution_count": 34,
     "metadata": {},
     "output_type": "execute_result"
    }
   ],
   "source": [
    "df_nonan[\"Salary Copy\"]"
   ]
  },
  {
   "cell_type": "code",
   "execution_count": null,
   "id": "502515ba",
   "metadata": {},
   "outputs": [],
   "source": []
  }
 ],
 "metadata": {
  "kernelspec": {
   "display_name": "Python 3 (ipykernel)",
   "language": "python",
   "name": "python3"
  },
  "language_info": {
   "codemirror_mode": {
    "name": "ipython",
    "version": 3
   },
   "file_extension": ".py",
   "mimetype": "text/x-python",
   "name": "python",
   "nbconvert_exporter": "python",
   "pygments_lexer": "ipython3",
   "version": "3.9.7"
  }
 },
 "nbformat": 4,
 "nbformat_minor": 5
}
